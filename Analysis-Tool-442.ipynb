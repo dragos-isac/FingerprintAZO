{
 "cells": [
  {
   "cell_type": "code",
   "execution_count": null,
   "id": "32e5d899",
   "metadata": {},
   "outputs": [],
   "source": [
    "import spectracorrm as spc\n",
    "import os\n",
    "import matplotlib.pyplot as plt\n",
    "from scipy.signal import savgol_filter\n",
    "import numpy as np\n",
    "from pybaselines import Baseline\n",
    "import pandas as pd"
   ]
  },
  {
   "cell_type": "code",
   "execution_count": null,
   "id": "55fdca12",
   "metadata": {},
   "outputs": [],
   "source": [
    "freq = \"442\" # The theoretical frequency that should be used (example: 442, - as it is in the name of the theoretical file)\n",
    "experimental_path = f\"./experimental-data/{freq}\" # Path to the experimental folder\n",
    "theoretical_path = \"./theoretical-data\" # Path to the theoretical folders\n",
    "results_path = f\"./results/{freq}\" # Where to save the results\n",
    "basis_sets = [\"6311Gdp\", \"cc-pVTZ\", \"Def2TZVP\"] # Basis sets that were used\n",
    "methods = [\"APFD\", \"B3LYP\", \"BMK\", \"CAM-B3LYP\", \"M062X\", \"MN12SX\", \"MN15L\", \"PBE0\", \"wB97XD\"] # Methods that were used (e.g. \"APFD\", \"B3LYP\", \"BMK\")\n",
    "min_scale_factor = 0.8\n",
    "max_scale_factor = 1.2\n",
    "points_scale_factor = 400\n",
    "min_th_freq = 800 # Minimum theoretical spectra frequency in cm^-1\n",
    "max_th_freq = 1800 # Maximum theoretical spectra frequency in cm^-1\n",
    "points_th_freq = 1000 # Total number of points for the theoretical spectra\n",
    "step_th_freq = (max_th_freq - min_th_freq) / points_scale_factor\n",
    "th_sigma = 24 # half-width at half-maximum (HWHM) in cm^-1\n",
    "\n",
    "# DO NOT MODIFY BELOW THIS LINE\n",
    "names = [] # Initialize list of all literal names of the compounds - SHOULD BE LEFT EMPTY IN THIS CELL\n",
    "names_d = {} # Initialize dictionary for mapping between indexes and compounds codes - SHOULD BE LEFT EMPTY IN THIS CELL\n",
    "exp_spectra = [] # Initialize list for experimental spectra - SHOUL BE LEFT EMPTY IN THIS CELL\n",
    "scales = np.linspace(min_scale_factor, max_scale_factor, points_scale_factor) # Scaling factors\n",
    "scales = np.round(scales, 3) # Round scaling factors to 3 digits\n",
    "os.makedirs(os.path.join(results_path)) # Create results directory"
   ]
  },
  {
   "cell_type": "code",
   "execution_count": null,
   "id": "8234a15e",
   "metadata": {},
   "outputs": [],
   "source": [
    "spc_files = [s for s in os.listdir(experimental_path) if \".txt\" in s]\n",
    "print(spc_files)"
   ]
  },
  {
   "cell_type": "code",
   "execution_count": null,
   "id": "b5dd6063",
   "metadata": {},
   "outputs": [],
   "source": [
    "os.makedirs(os.path.join(results_path, \"Experimental\"))\n",
    "for s in spc_files:\n",
    "    names.append(s.split(\".\")[0])\n",
    "    spectra = os.path.join(experimental_path, s)\n",
    "    obj = spc.Spectrum.from_csv(spectra)\n",
    "    baseline_fitter = Baseline(obj.frequencies,check_finite=False)\n",
    "    bkg_1 = baseline_fitter.modpoly(obj.intensities, poly_order=3)[0]\n",
    "    obj.intensities -= bkg_1\n",
    "    \n",
    "    new_x = np.linspace(min_th_freq, max_th_freq, points_th_freq)\n",
    "    obj.intensities = np.interp(new_x, obj.frequencies, obj.intensities)\n",
    "    obj.frequencies = np.round(new_x, 0)\n",
    "    obj.frequencies = np.round(obj.frequencies,0)\n",
    "    obj.intensities = savgol_filter(obj.intensities, 30, 3)\n",
    "    obj.normalize()\n",
    "    obj.plot()\n",
    "    print(s)\n",
    "    obj.export_csv(os.path.join(results_path, \"Experimental\", f\"{names[-1]}-processed.txt\"))        \n",
    "    exp_spectra.append(obj)\n",
    "    \n",
    "for index, name in enumerate(names):\n",
    "    names_d[index] = name"
   ]
  },
  {
   "cell_type": "code",
   "execution_count": null,
   "id": "7c6f347a",
   "metadata": {
    "scrolled": true
   },
   "outputs": [],
   "source": [
    "for basis in basis_sets:\n",
    "    for method in methods:\n",
    "        for compound in names_d.values():\n",
    "            export_path = os.path.join(results_path, \"Theoretical\", basis, method, compound)\n",
    "            os.makedirs(export_path, exist_ok=True)\n",
    "            full_path_to_csv = os.path.join(theoretical_path, freq, basis, method, \"Raman-Spectra\", f\"{compound}-{freq}.txt\")\n",
    "            print(full_path_to_csv)\n",
    "            try:\n",
    "                df = pd.read_csv(full_path_to_csv, header=None)\n",
    "            except FileNotFoundError:\n",
    "                print(f\"FNFE {full_path_to_csv}\")\n",
    "            except:\n",
    "                print(f\"ERROR {full_path_to_csv}\")\n",
    "            freqlist = df[0].tolist()\n",
    "            intlist = df[1].tolist()\n",
    "            for scale in scales:\n",
    "                if not os.path.exists(os.path.join(export_path,f\"{compound}-{freq}-{scale}.csv\")):\n",
    "                    try:\n",
    "                        t = spc.TheoreticalSpectrum(freqlist, intlist, min_th_freq, max_th_freq, step_th_freq, sigma=th_sigma, scale=scale, raman=True)\n",
    "                        t.export_csv(os.path.join(export_path,f\"{compound}-{freq}-{scale}.csv\"))\n",
    "                    except:\n",
    "                        print(f\"ERROR: {full_path_to_csv}\")\n",
    "                        break\n",
    "                else:\n",
    "                    pass"
   ]
  },
  {
   "cell_type": "code",
   "execution_count": null,
   "id": "f8ff07e2",
   "metadata": {},
   "outputs": [],
   "source": [
    "def compare_spc(compound):\n",
    "    global basis_sets\n",
    "    global methods\n",
    "    global freq\n",
    "    global names_d\n",
    "    fname = os.path.join(results_path, \"Theoretical\", \"Raman_PearsonR\")\n",
    "    os.makedirs(fname, exist_ok=True)\n",
    "    d = {}\n",
    "    \n",
    "    for basis in basis_sets:\n",
    "        for method in methods:\n",
    "            folder = os.path.join(results_path, \"Theoretical\", basis, method, names_d[compound])\n",
    "            if os.path.exists(os.path.join(fname,f\"{names_d[compound]}-{basis}-{method}-{freq}.csv\")):\n",
    "                print(f\"Skip {names_d[compound]}-{basis}-{method}-{freq}.csv\")\n",
    "                continue\n",
    "            for scale in scales:\n",
    "                name = f\"{compound}_{scale}\"\n",
    "                obj = spc.Spectrum.from_csv(os.path.join(folder,f\"{names_d[compound]}-{freq}-{scale}.csv\"))\n",
    "                obj.frequencies = np.array(obj.frequencies)\n",
    "                obj.intensities = np.array(obj.intensities)\n",
    "                obj.normalize()\n",
    "                d[scale] = exp_spectra[compound].compare(obj)\n",
    "    \n",
    "            df = pd.DataFrame.from_dict(d, orient='index', columns= ['R'])\n",
    "            df.index.name = \"Scale Factor\"\n",
    "            df.to_csv(os.path.join(fname,f\"{names_d[compound]}-{basis}-{method}-{freq}.csv\"))"
   ]
  },
  {
   "cell_type": "code",
   "execution_count": null,
   "id": "cba6e25e",
   "metadata": {},
   "outputs": [],
   "source": [
    "for compound in names_d.keys():\n",
    "    compare_spc(compound)"
   ]
  },
  {
   "cell_type": "code",
   "execution_count": null,
   "id": "1aad05d6",
   "metadata": {},
   "outputs": [],
   "source": [
    "def calc_average():\n",
    "    global names_d\n",
    "    global freq\n",
    "    fname = os.path.join(results_path, \"Theoretical\", \"Raman_PearsonR\")\n",
    "    export_path = os.path.join(fname, \"Average\")\n",
    "    os.makedirs(export_path, exist_ok=True)\n",
    "    for basis in basis_sets:\n",
    "        for method in methods:\n",
    "            dflist = []\n",
    "            for compound in names_d.keys():\n",
    "                with open(os.path.join(fname, f\"{names_d[compound]}-{basis}-{method}-{freq}.csv\")) as file:\n",
    "                    df = pd.read_csv(file)\n",
    "                    dflist.append(df[\"R\"])\n",
    "                    res = pd.DataFrame({\"Scale Factor\" : list(df[\"Scale Factor\"]),\n",
    "                                        \"Average R\" : list(sum(dflist) / 5)})\n",
    "                    res.to_csv(os.path.join(export_path, f\"{basis}-{method}.txt\",), index=False)"
   ]
  },
  {
   "cell_type": "code",
   "execution_count": null,
   "id": "03518b6c-c63e-486c-bc10-2e5eac1f6805",
   "metadata": {},
   "outputs": [],
   "source": [
    "calc_average()"
   ]
  },
  {
   "cell_type": "code",
   "execution_count": null,
   "id": "2b4bea57-7fa2-4891-a019-035374e35286",
   "metadata": {},
   "outputs": [],
   "source": [
    "def get_best_correlation():\n",
    "    global names_d\n",
    "    global freq\n",
    "    fname = os.path.join(results_path, \"Theoretical\", \"Raman_PearsonR\")\n",
    "    for basis in basis_sets:\n",
    "        for method in methods:\n",
    "            with open(os.path.join(fname, \"Average\", f\"{basis}-{method}.txt\")) as file:\n",
    "                df = pd.read_csv(file)\n",
    "                best_corr = df.loc[df[\"Average R\"].idxmax()]\n",
    "                print(f\"{basis}-{method}\\n\")\n",
    "                print(best_corr.to_string())\n",
    "                print(\"\\n\")"
   ]
  },
  {
   "cell_type": "code",
   "execution_count": null,
   "id": "599218f5-6a02-4a0b-97e0-db4b3ad85dfd",
   "metadata": {},
   "outputs": [],
   "source": [
    "get_best_correlation()"
   ]
  },
  {
   "cell_type": "code",
   "execution_count": null,
   "id": "6af94117",
   "metadata": {},
   "outputs": [],
   "source": []
  }
 ],
 "metadata": {
  "kernelspec": {
   "display_name": "Python 3 (ipykernel)",
   "language": "python",
   "name": "python3"
  },
  "language_info": {
   "codemirror_mode": {
    "name": "ipython",
    "version": 3
   },
   "file_extension": ".py",
   "mimetype": "text/x-python",
   "name": "python",
   "nbconvert_exporter": "python",
   "pygments_lexer": "ipython3",
   "version": "3.11.9"
  }
 },
 "nbformat": 4,
 "nbformat_minor": 5
}
